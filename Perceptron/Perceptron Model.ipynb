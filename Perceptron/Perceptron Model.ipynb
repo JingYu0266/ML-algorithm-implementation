{
 "cells": [
  {
   "cell_type": "code",
   "execution_count": null,
   "metadata": {},
   "outputs": [],
   "source": [
    "import pandas as pd\n",
    "import numpy as np\n",
    "import matplotlib.pyplot as plt\n",
    "from sklearn.datasets import make_classification,make_moons\n",
    "from sklearn.model_selection import train_test_split\n",
    "\n",
    "from JY_makeDataset import Jy_makeDataset\n",
    "# from sklearn.linear_model import perception"
   ]
  },
  {
   "cell_type": "code",
   "execution_count": null,
   "metadata": {},
   "outputs": [],
   "source": [
    "#生成数据 (2,1000) (1,1000)\n",
    "randseed = 5648\n",
    "m = 2000\n",
    "# X,y = make_classification(n_samples=m, n_features=2,n_redundant=0,n_informative=1,n_clusters_per_class=1,random_state= randseed)\n",
    "#X,y = make_moons(n_samples=m,noise=0.05)\n",
    "\n",
    "Jy_makeDataset.random_state(randseed)\n",
    "X,y = Jy_makeDataset.draw_HalfMoon(n_sample= 2000,positive_val= 1 ,negative_val= 0)\n",
    "\n",
    "X_train,X_test,y_train,y_test = train_test_split(X,y,test_size = 0.2,random_state = randseed)\n",
    "\n",
    "print(type(X_train))\n",
    "print(X)"
   ]
  },
  {
   "cell_type": "code",
   "execution_count": null,
   "metadata": {},
   "outputs": [],
   "source": [
    "#绘图显示\n",
    "#将数据进行分类 f1,f2为样本的特征\n",
    "positive_f1 = [X[i,0] for i in range(len(X)) if y[i] == 0]\n",
    "positive_f2 = [X[i,1] for i in range(len(X)) if y[i] == 0]\n",
    "negetive_f1 = [X[i,0] for i in range(len(X)) if y[i] == 1]\n",
    "negetive_f2 = [X[i,1] for i in range(len(X)) if y[i] == 1]\n",
    " \n",
    "plt.figure()\n",
    "plt.scatter(positive_f1,positive_f2,c = 'red',alpha=0.1)\n",
    "plt.scatter(negetive_f1,negetive_f2,c = 'blue',alpha=0.1)"
   ]
  },
  {
   "cell_type": "code",
   "execution_count": null,
   "metadata": {},
   "outputs": [],
   "source": [
    "# numpy to pandas\n",
    "X_train = pd.DataFrame(X_train)\n",
    "X_test = pd.DataFrame(X_test)\n",
    "y_train = pd.DataFrame(y_train)\n",
    "y_test = pd.DataFrame(y_test)\n",
    "\n",
    "y_train[y_train[0] == 0] = -1\n",
    "y_test[y_test[0] == 0] = -1\n",
    "# len(X_train)\n"
   ]
  },
  {
   "cell_type": "code",
   "execution_count": null,
   "metadata": {},
   "outputs": [],
   "source": [
    "\n",
    "\n",
    "class Perception(object):\n",
    "    def __init__(self,w_dim,b0 = 0,l_rate = 0.01,epoch = 10):\n",
    "        self.w = np.ones(w_dim,dtype=np.float32) # w_dim = len(X_train.columns)\n",
    "        self.b = b0\n",
    "        self.l_rate = l_rate   # 先固定学习率\n",
    "        self.epoch = epoch\n",
    "        self.accuracy = []\n",
    "\n",
    "    def sign(self,x,w,b) -> int: # 定义符号函数\n",
    "        y = np.dot(x,w) + b\n",
    "        y = float(y)\n",
    "        if y >= 0:\n",
    "            return 1\n",
    "        else:\n",
    "            return -1\n",
    "    def Weighted_sum(self,x,w,b) -> float:\n",
    "        y = np.dot(x,w) + b\n",
    "        return y\n",
    "    \n",
    "    def fit(self,x_train,y_train):\n",
    "        #\n",
    "        self.accuracy.clear()\n",
    "        accuracy_temp = 0\n",
    "        for iter_ in range(self.epoch):\n",
    "            for i in range(len(x_train)):\n",
    "                xi = x_train.iloc[i]\n",
    "                yi = y_train.iloc[i]\n",
    "                accuracy_temp += float(yi) * float(self.Weighted_sum(xi, self.w, self.b))\n",
    "                # SGD\n",
    "                # if  self.sign(xi, self.w,self.b) < 0:\n",
    "                self.w += np.dot(xi,float(yi)) * self.l_rate\n",
    "                self.b += yi * self.l_rate\n",
    "            self.accuracy.append(float(accuracy_temp))\n",
    "            if iter_%10 == 0:\n",
    "                print('time :',iter_,'accuracy: ',float(accuracy_temp))\n",
    "                print('w = ',list(self.w),'b=',float(self.b))\n",
    "                y_predict = perception.predict(X_test)\n",
    "                print('score : ',perception.score(y_predict, y_test))\n",
    "                line_w_ = -1*(self.w[0]/self.w[1])\n",
    "                line_b_ = -1*(float(self.b)/self.w[1])\n",
    "                print('line_w_:',line_w_,'line_b_',line_b_)\n",
    "            accuracy_temp = 0\n",
    "    def predict(self,x_test):\n",
    "        y = []\n",
    "        for i in range(len(x_test)):\n",
    "            xi = x_test.iloc[i]\n",
    "            y.append(self.sign(xi, self.w,self.b))\n",
    "        return y.copy()\n",
    "\n",
    "    def score(self,y,label):\n",
    "        accuracy = 0\n",
    "        for i in range(len(y)):\n",
    "            if  y[i] == label.iloc[i][0]:\n",
    "                accuracy += 1\n",
    "        return accuracy / len(label)\n",
    "\n",
    "    pass\n"
   ]
  },
  {
   "cell_type": "code",
   "execution_count": null,
   "metadata": {},
   "outputs": [],
   "source": [
    "\n",
    "if __name__ == '__main__':\n",
    "\n",
    "    perception = Perception(len(X_train.columns),epoch= 20,l_rate= 0.01)\n",
    "    perception.fit(X_train, y_train)\n",
    "    y_predict = perception.predict(X_test)\n",
    "    print('score : ',perception.score(y_predict, y_test))\n",
    "    # 可视化\n",
    "    #绘图显示\n",
    "    #将数据进行分类 f1,f2为样本的特征\n",
    "    positive_f1 = [X_test.iloc[i][0] for i in range(len(X_test)) if y_test.iloc[i][0] == 1]\n",
    "    positive_f2 = [X_test.iloc[i][1] for i in range(len(X_test)) if y_test.iloc[i][0] == 1]\n",
    "    negetive_f1 = [X_test.iloc[i][0] for i in range(len(X_test)) if y_test.iloc[i][0] == -1]\n",
    "    negetive_f2 = [X_test.iloc[i][1] for i in range(len(X_test)) if y_test.iloc[i][0] == -1]\n",
    "\n",
    "    # positive_f1_pre = [X_test.iloc[i][0] for i in range(len(X_test)) if y_predict[i] == 1]\n",
    "    # positive_f2_pre = [X_test.iloc[i][1] for i in range(len(X_test)) if y_predict[i] == 1]\n",
    "    # negetive_f1_pre = [X_test.iloc[i][0] for i in range(len(X_test)) if y_predict[i] == -1]\n",
    "    # negetive_f2_pre = [X_test.iloc[i][1] for i in range(len(X_test)) if y_predict[i] == -1]\n",
    "\n",
    "    mistake_f1_pre = [X_test.iloc[i][0] for i in range(len(X_test)) if y_predict[i] != y_test.iloc[i][0]]\n",
    "    mistake_f2_pre = [X_test.iloc[i][1] for i in range(len(X_test)) if y_predict[i] != y_test.iloc[i][0]]\n",
    "\n",
    "\n",
    "    fig = plt.figure(num=1,figsize=(14,6))\n",
    "    ax1 = fig.add_subplot(121)\n",
    "\n",
    "    ax1.scatter(positive_f1,positive_f2,c = 'red',alpha=0.5)\n",
    "    ax1.scatter(negetive_f1,negetive_f2,c = 'blue',alpha=0.5)\n",
    "\n",
    "    line_x = np.linspace(0,14,100)\n",
    "\n",
    "    line_w = -1*(perception.w[0]/perception.w[1])\n",
    "    line_b = -1*(float(perception.b)/perception.w[1])\n",
    "\n",
    "    line_y = list(map(lambda x : x*line_w + line_b ,line_x))\n",
    "\n",
    "    ax1.plot(line_x,line_y,c = 'orange')\n",
    "\n",
    "    ax2 = fig.add_subplot(122)\n",
    "\n",
    "    # ax2.scatter(positive_f1,positive_f2,c = 'green',alpha=0.5)\n",
    "    # ax2.scatter(negetive_f1,negetive_f2,c = 'orange',alpha=0.5)\n",
    "\n",
    "    ax2.scatter(mistake_f1_pre,mistake_f2_pre,c = 'orange',alpha=0.5)\n",
    "    ax2.plot(line_x,line_y,c = 'orange')\n",
    "\n",
    "\n",
    "    print(line_w,line_b)\n",
    "\n",
    "    plt.show()\n",
    "\n",
    "    \n"
   ]
  },
  {
   "cell_type": "code",
   "execution_count": null,
   "metadata": {},
   "outputs": [],
   "source": [
    "# 生产两个半月形数据\n",
    "\n",
    "def make_halcir(n_sample ,x : float ,y : float ,strart_angle ,end_angle,width,random = 1):\n",
    "    positive_n = n_sample/2;\n",
    "    pass"
   ]
  },
  {
   "cell_type": "markdown",
   "metadata": {},
   "source": [
    "# 以下为使用 sklearn 自带的感知器算法代码"
   ]
  },
  {
   "cell_type": "code",
   "execution_count": null,
   "metadata": {},
   "outputs": [],
   "source": [
    "'''\n",
    "line_w_: -0.016316106542944908 line_b_ 0.022298641592389038\n",
    "\n",
    "\n",
    "'''\n",
    "\n",
    "# #使用默认参数拟合模型\n",
    "# p_clf = perception()\n",
    "# p_clf.fit(X_train,y_trian)\n",
    "# print(p_clf.coef_,p_clf.intercept_)"
   ]
  },
  {
   "cell_type": "code",
   "execution_count": null,
   "metadata": {},
   "outputs": [],
   "source": [
    "# print('准确率 {}'.format(p_clf.score(X_test,y_test)))"
   ]
  },
  {
   "cell_type": "code",
   "execution_count": null,
   "metadata": {},
   "outputs": [],
   "source": [
    "# #绘图显示\n",
    "# #将数据进行分类 f1,f2为样本的特征\n",
    "# positive_f1 = [X[i,0] for i in range(1000) if y[i] == 0]\n",
    "# positive_f2 = [X[i,1] for i in range(1000) if y[i] == 0]\n",
    "# negetive_f1 = [X[i,0] for i in range(1000) if y[i] == 1]\n",
    "# negetive_f2 = [X[i,1] for i in range(1000) if y[i] == 1]\n",
    "\n",
    "# plt.figure()\n",
    "# plt.scatter(positive_f1,positive_f2,c = 'red',alpha=0.1)\n",
    "# plt.scatter(negetive_f1,negetive_f2,c = 'blue',alpha=0.1)\n",
    "# \"\"\"\n",
    "# w1*f1 + w2*f2 + b = 0\n",
    "# f2 = (-b - w1*f1)/w2\n",
    "# f2 = -f1*(w1/w2) -b/w2\n",
    "# \"\"\"  \n",
    "# line_f1 = np.arange(-3,4)\n",
    "# line_f2 = -line_f1*(p_clf.coef_[0][0]/p_clf.coef_[0][1])-(p_clf.intercept_/p_clf.coef_[0][1])\n",
    "# plt.plot(line_f1,line_f2)\n",
    "# plt.show()"
   ]
  },
  {
   "cell_type": "code",
   "execution_count": null,
   "metadata": {},
   "outputs": [],
   "source": [
    "# p_clf.coef_"
   ]
  },
  {
   "cell_type": "code",
   "execution_count": null,
   "metadata": {},
   "outputs": [],
   "source": []
  }
 ],
 "metadata": {
  "kernelspec": {
   "display_name": "Python 3",
   "language": "python",
   "name": "python3"
  },
  "language_info": {
   "codemirror_mode": {
    "name": "ipython",
    "version": 3
   },
   "file_extension": ".py",
   "mimetype": "text/x-python",
   "name": "python",
   "nbconvert_exporter": "python",
   "pygments_lexer": "ipython3",
   "version": "3.8.8"
  }
 },
 "nbformat": 4,
 "nbformat_minor": 2
}
